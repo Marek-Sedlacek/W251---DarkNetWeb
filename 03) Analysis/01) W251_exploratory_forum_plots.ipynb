{
 "cells": [
  {
   "cell_type": "code",
   "execution_count": 1,
   "metadata": {
    "collapsed": true
   },
   "outputs": [],
   "source": [
    "import numpy as np\n",
    "import pandas as pd\n",
    "from dateutil.parser import parse\n",
    "import matplotlib.pyplot as plt"
   ]
  },
  {
   "cell_type": "markdown",
   "metadata": {},
   "source": [
    "# Forum Posts Per Day"
   ]
  },
  {
   "cell_type": "code",
   "execution_count": 98,
   "metadata": {
    "collapsed": false
   },
   "outputs": [],
   "source": [
    "col_names = [\"Date\",\"Post_Count\"]\n",
    "forum_posts_day_ori = pd.DataFrame(columns = col_names)\n",
    "forum_posts_day_res = pd.DataFrame(columns = col_names)\n",
    "df_ori_combined = pd.DataFrame(columns = col_names)\n",
    "df_res_combined = pd.DataFrame(columns = col_names)\n",
    "\n",
    "ori_1 = pd.read_csv('/home/abyun/Downloads/w251_proj/251_spark/counts_original_reduced/part-00000',header=None,names=['Date','Post_Count'])\n",
    "ori_2 = pd.read_csv('/home/abyun/Downloads/w251_proj/251_spark/counts_original_reduced/part-00001',header=None,names=['Date','Post_Count'])\n",
    "ori_3 = pd.read_csv('/home/abyun/Downloads/w251_proj/251_spark/counts_original_reduced/part-00002',header=None,names=['Date','Post_Count'])\n",
    "ori_4 = pd.read_csv('/home/abyun/Downloads/w251_proj/251_spark/counts_original_reduced/part-00003',header=None,names=['Date','Post_Count'])\n",
    "\n",
    "df_ori_combined = df_ori_combined.append(ori_1, ignore_index=True) \n",
    "df_ori_combined = df_ori_combined.append(ori_2, ignore_index=True) \n",
    "df_ori_combined = df_ori_combined.append(ori_3, ignore_index=True) \n",
    "df_ori_combined = df_ori_combined.append(ori_4, ignore_index=True) \n",
    "\n",
    "res_1 = pd.read_csv('/home/abyun/Downloads/w251_proj/251_spark/counts_response_reduced/part-00000',header=None,names=['Date','Post_Count'])\n",
    "res_2 = pd.read_csv('/home/abyun/Downloads/w251_proj/251_spark/counts_response_reduced/part-00001',header=None,names=['Date','Post_Count'])\n",
    "res_3 = pd.read_csv('/home/abyun/Downloads/w251_proj/251_spark/counts_response_reduced/part-00002',header=None,names=['Date','Post_Count'])\n",
    "res_4 = pd.read_csv('/home/abyun/Downloads/w251_proj/251_spark/counts_response_reduced/part-00003',header=None,names=['Date','Post_Count'])\n",
    "\n",
    "df_res_combined = df_res_combined.append(res_1, ignore_index=True) \n",
    "df_res_combined = df_res_combined.append(res_2, ignore_index=True) \n",
    "df_res_combined = df_res_combined.append(res_3, ignore_index=True) \n",
    "df_res_combined = df_res_combined.append(res_4, ignore_index=True) "
   ]
  },
  {
   "cell_type": "code",
   "execution_count": 99,
   "metadata": {
    "collapsed": false
   },
   "outputs": [],
   "source": [
    "def parse_df(df,val):\n",
    "    if val==1: \n",
    "        col_names = [\"Date\",\"Post_Count_Original\"]\n",
    "    elif val==2:\n",
    "        col_names = [\"Date\",\"Post_Count_Response\"]\n",
    "    df_new = pd.DataFrame(columns = col_names)\n",
    "    \n",
    "    for i in range(0,len(df)):\n",
    "        date = df.Date[i]\n",
    "        date = date[1:len(date)]\n",
    "        post_count = df.Post_Count[i]\n",
    "        try:\n",
    "            if date[3]=='6':\n",
    "                date = date[:3] + '4' + date[3 + 1:]\n",
    "            date = parse(date)\n",
    "            post_count = int(post_count[0:len(post_count)-1])\n",
    "        except:\n",
    "            print \"failed, \" + date + \",\" + post_count\n",
    "        add_list = np.array([date, post_count])  \n",
    "        df_new = df_new.append(pd.DataFrame(add_list, index=col_names).transpose())\n",
    "        \n",
    "    df_new = df_new.sort_values(by='Date', axis=0, ascending=True)\n",
    "    df_new.index = df_new['Date']\n",
    "    return df_new"
   ]
  },
  {
   "cell_type": "code",
   "execution_count": 100,
   "metadata": {
    "collapsed": false
   },
   "outputs": [],
   "source": [
    "forum_posts_day_ori = parse_df(df_ori_combined,1)\n",
    "forum_posts_day_res = parse_df(df_res_combined,2)"
   ]
  },
  {
   "cell_type": "code",
   "execution_count": 101,
   "metadata": {
    "collapsed": false
   },
   "outputs": [],
   "source": [
    "combined_forum_posts_day = forum_posts_day_ori.merge(forum_posts_day_res,left_on='Date', right_on='Date', how='outer')\n",
    "combined_forum_posts_day.index = combined_forum_posts_day['Date']"
   ]
  },
  {
   "cell_type": "code",
   "execution_count": 109,
   "metadata": {
    "collapsed": true
   },
   "outputs": [],
   "source": [
    "# sum original and response posts together from both dataframes\n",
    "col_names = [\"Date\",\"Post_Count\"]\n",
    "posts_per_day_combined = pd.DataFrame(columns = col_names)\n",
    "\n",
    "for i in range(0,len(combined_forum_posts_day)):\n",
    "    posts = combined_forum_posts_day.Post_Count_Original[i] + combined_forum_posts_day.Post_Count_Response[i]\n",
    "    try:\n",
    "        posts = int(posts)\n",
    "        if posts > 11000:  # error checking/remove bad data\n",
    "            posts = 0\n",
    "    except:\n",
    "        posts = 0\n",
    "    add_list = np.array([combined_forum_posts_day.Date[i], posts])  \n",
    "    posts_per_day_combined = posts_per_day_combined.append(pd.DataFrame(add_list, index=col_names).transpose())\n",
    "\n",
    "posts_per_day_combined = posts_per_day_combined.sort_values(by='Date', axis=0, ascending=True)\n",
    "posts_per_day_combined.index = posts_per_day_combined['Date']"
   ]
  },
  {
   "cell_type": "code",
   "execution_count": 13,
   "metadata": {
    "collapsed": true
   },
   "outputs": [],
   "source": [
    "%matplotlib qt"
   ]
  },
  {
   "cell_type": "code",
   "execution_count": 68,
   "metadata": {
    "collapsed": false,
    "scrolled": true
   },
   "outputs": [
    {
     "data": {
      "text/plain": [
       "<matplotlib.text.Text at 0x7f1bdb55be90>"
      ]
     },
     "execution_count": 68,
     "metadata": {},
     "output_type": "execute_result"
    }
   ],
   "source": [
    "plt.figure()\n",
    "ax = combined_forum_posts_day.plot(figsize=(16, 12)).set_title('Forum Posts over Time')\n",
    "plt.xlabel('Date')\n",
    "plt.ylabel('Num of Forum Posts')"
   ]
  },
  {
   "cell_type": "code",
   "execution_count": 69,
   "metadata": {
    "collapsed": false
   },
   "outputs": [
    {
     "data": {
      "text/plain": [
       "<matplotlib.text.Text at 0x7f1bd6428490>"
      ]
     },
     "execution_count": 69,
     "metadata": {},
     "output_type": "execute_result"
    }
   ],
   "source": [
    "plt.figure()\n",
    "ax = forum_posts_day_ori.plot(figsize=(16, 12)).set_title('Original Forum Posts over Time')\n",
    "plt.xlabel('Date')\n",
    "plt.ylabel('Num of Original Forum Posts')"
   ]
  },
  {
   "cell_type": "code",
   "execution_count": 70,
   "metadata": {
    "collapsed": false
   },
   "outputs": [
    {
     "data": {
      "text/plain": [
       "<matplotlib.text.Text at 0x7f1bd62de150>"
      ]
     },
     "execution_count": 70,
     "metadata": {},
     "output_type": "execute_result"
    }
   ],
   "source": [
    "plt.figure()\n",
    "ax = forum_posts_day_res.plot(figsize=(16, 12)).set_title('Response Forum Posts over Time')\n",
    "plt.xlabel('Date')\n",
    "plt.ylabel('Num of Response Forum Posts')"
   ]
  },
  {
   "cell_type": "code",
   "execution_count": 110,
   "metadata": {
    "collapsed": false
   },
   "outputs": [
    {
     "data": {
      "text/plain": [
       "<matplotlib.text.Text at 0x7f1bcc019a10>"
      ]
     },
     "execution_count": 110,
     "metadata": {},
     "output_type": "execute_result"
    }
   ],
   "source": [
    "plt.figure()\n",
    "ax = posts_per_day_combined.plot(figsize=(16, 12)).set_title('Daily Forum Posts over Time')\n",
    "plt.xlabel('Date')\n",
    "plt.ylabel('Number of Forum Posts')"
   ]
  },
  {
   "cell_type": "markdown",
   "metadata": {},
   "source": [
    "# Users Per Date"
   ]
  },
  {
   "cell_type": "code",
   "execution_count": 88,
   "metadata": {
    "collapsed": true
   },
   "outputs": [],
   "source": [
    "col_names = [\"Date\",\"Users\"]\n",
    "users_day_ori = pd.DataFrame(columns = col_names)\n",
    "users_day_res = pd.DataFrame(columns = col_names)\n",
    "df_ori_combined = pd.DataFrame(columns = col_names)\n",
    "df_res_combined = pd.DataFrame(columns = col_names)\n",
    "\n",
    "ori_1 = pd.read_csv('/home/abyun/Downloads/w251_proj/251_spark/counts_original_users_reduced/part-00000',header=None,names=['Date','Users'])\n",
    "ori_2 = pd.read_csv('/home/abyun/Downloads/w251_proj/251_spark/counts_original_users_reduced/part-00001',header=None,names=['Date','Users'])\n",
    "ori_3 = pd.read_csv('/home/abyun/Downloads/w251_proj/251_spark/counts_original_users_reduced/part-00002',header=None,names=['Date','Users'])\n",
    "ori_4 = pd.read_csv('/home/abyun/Downloads/w251_proj/251_spark/counts_original_users_reduced/part-00003',header=None,names=['Date','Users'])\n",
    "\n",
    "df_ori_combined = df_ori_combined.append(ori_1, ignore_index=True) \n",
    "df_ori_combined = df_ori_combined.append(ori_2, ignore_index=True) \n",
    "df_ori_combined = df_ori_combined.append(ori_3, ignore_index=True) \n",
    "df_ori_combined = df_ori_combined.append(ori_4, ignore_index=True) \n",
    "\n",
    "res_1 = pd.read_csv('/home/abyun/Downloads/w251_proj/251_spark/counts_response_users_reduced/part-00000',header=None,names=['Date','Users'])\n",
    "res_2 = pd.read_csv('/home/abyun/Downloads/w251_proj/251_spark/counts_response_users_reduced/part-00001',header=None,names=['Date','Users'])\n",
    "res_3 = pd.read_csv('/home/abyun/Downloads/w251_proj/251_spark/counts_response_users_reduced/part-00002',header=None,names=['Date','Users'])\n",
    "res_4 = pd.read_csv('/home/abyun/Downloads/w251_proj/251_spark/counts_response_users_reduced/part-00003',header=None,names=['Date','Users'])\n",
    "\n",
    "df_res_combined = df_res_combined.append(res_1, ignore_index=True) \n",
    "df_res_combined = df_res_combined.append(res_2, ignore_index=True) \n",
    "df_res_combined = df_res_combined.append(res_3, ignore_index=True) \n",
    "df_res_combined = df_res_combined.append(res_4, ignore_index=True) "
   ]
  },
  {
   "cell_type": "code",
   "execution_count": 89,
   "metadata": {
    "collapsed": false
   },
   "outputs": [],
   "source": [
    "def parse_df(df,val):\n",
    "    if val==1: \n",
    "        col_names = [\"Date\",\"Users_Original\"]\n",
    "    elif val==2:\n",
    "        col_names = [\"Date\",\"Users_Response\"]\n",
    "    df_new = pd.DataFrame(columns = col_names)\n",
    "\n",
    "    for i in range(0,len(df)):\n",
    "        date = df.Date[i]\n",
    "        date = date[2:len(date)]\n",
    "        user_count = df.Users[i]\n",
    "        try:\n",
    "            if date[3]=='6':\n",
    "                date = date[:3] + '4' + date[3 + 1:]\n",
    "            date = parse(date)\n",
    "            user_count = int(user_count[0:len(user_count)-1])\n",
    "        except:\n",
    "            print \"failed, \" + date + \",\" + user_count\n",
    "        add_list = np.array([date, user_count])  \n",
    "        df_new = df_new.append(pd.DataFrame(add_list, index=col_names).transpose())\n",
    "        \n",
    "    df_new = df_new.sort_values(by='Date', axis=0, ascending=True)\n",
    "    df_new.index = df_new['Date']\n",
    "    return df_new"
   ]
  },
  {
   "cell_type": "code",
   "execution_count": 90,
   "metadata": {
    "collapsed": false
   },
   "outputs": [],
   "source": [
    "users_day_ori = parse_df(df_ori_combined,1)\n",
    "users_day_res = parse_df(df_res_combined,2)"
   ]
  },
  {
   "cell_type": "code",
   "execution_count": 91,
   "metadata": {
    "collapsed": true
   },
   "outputs": [],
   "source": [
    "combined_users_day = users_day_ori.merge(users_day_res,left_on='Date', right_on='Date', how='outer')\n",
    "combined_users_day.index = combined_users_day['Date']"
   ]
  },
  {
   "cell_type": "code",
   "execution_count": 96,
   "metadata": {
    "collapsed": true
   },
   "outputs": [],
   "source": [
    "# sum original and response posts together from both dataframes\n",
    "col_names = [\"Date\",\"Users\"]\n",
    "users_per_day_combined = pd.DataFrame(columns = col_names)\n",
    "\n",
    "for i in range(0,len(combined_forum_posts_day)):\n",
    "    users = combined_users_day.Users_Original[i] + combined_users_day.Users_Response[i]\n",
    "    try:\n",
    "        users = int(users)\n",
    "        if users > 1600:  # remove outliers / bad data\n",
    "            users = 0        \n",
    "    except:\n",
    "        users = 0\n",
    "    add_list = np.array([combined_users_day.Date[i], users])  \n",
    "    users_per_day_combined = users_per_day_combined.append(pd.DataFrame(add_list, index=col_names).transpose())\n",
    "\n",
    "users_per_day_combined = users_per_day_combined.sort_values(by='Date', axis=0, ascending=True)\n",
    "users_per_day_combined.index = users_per_day_combined['Date']"
   ]
  },
  {
   "cell_type": "code",
   "execution_count": 97,
   "metadata": {
    "collapsed": false
   },
   "outputs": [
    {
     "data": {
      "text/plain": [
       "<matplotlib.text.Text at 0x7f1bf5a296d0>"
      ]
     },
     "execution_count": 97,
     "metadata": {},
     "output_type": "execute_result"
    }
   ],
   "source": [
    "plt.figure()\n",
    "ax = users_per_day_combined.plot(figsize=(16, 12)).set_title('Daily Users over Time')\n",
    "plt.xlabel('Date')\n",
    "plt.ylabel('Number of Users')"
   ]
  }
 ],
 "metadata": {
  "kernelspec": {
   "display_name": "Python 2",
   "language": "python",
   "name": "python2"
  },
  "language_info": {
   "codemirror_mode": {
    "name": "ipython",
    "version": 2
   },
   "file_extension": ".py",
   "mimetype": "text/x-python",
   "name": "python",
   "nbconvert_exporter": "python",
   "pygments_lexer": "ipython2",
   "version": "2.7.11"
  }
 },
 "nbformat": 4,
 "nbformat_minor": 0
}
