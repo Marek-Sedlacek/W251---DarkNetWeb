{
 "cells": [
  {
   "cell_type": "code",
   "execution_count": 1,
   "metadata": {
    "collapsed": true
   },
   "outputs": [],
   "source": [
    "import numpy as np\n",
    "import pandas as pd\n",
    "from dateutil.parser import parse\n",
    "import matplotlib.pyplot as plt"
   ]
  },
  {
   "cell_type": "markdown",
   "metadata": {},
   "source": [
    "# Forum Posts Per Day"
   ]
  },
  {
   "cell_type": "code",
   "execution_count": 98,
   "metadata": {
    "collapsed": false
   },
   "outputs": [],
   "source": [
    "col_names = [\"Date\",\"Post_Count\"]\n",
    "forum_posts_day_ori = pd.DataFrame(columns = col_names)\n",
    "forum_posts_day_res = pd.DataFrame(columns = col_names)\n",
    "df_ori_combined = pd.DataFrame(columns = col_names)\n",
    "df_res_combined = pd.DataFrame(columns = col_names)\n",
    "\n",
    "ori_1 = pd.read_csv('/home/abyun/Downloads/w251_proj/251_spark/counts_original_reduced/part-00000',header=None,names=['Date','Post_Count'])\n",
    "ori_2 = pd.read_csv('/home/abyun/Downloads/w251_proj/251_spark/counts_original_reduced/part-00001',header=None,names=['Date','Post_Count'])\n",
    "ori_3 = pd.read_csv('/home/abyun/Downloads/w251_proj/251_spark/counts_original_reduced/part-00002',header=None,names=['Date','Post_Count'])\n",
    "ori_4 = pd.read_csv('/home/abyun/Downloads/w251_proj/251_spark/counts_original_reduced/part-00003',header=None,names=['Date','Post_Count'])\n",
    "\n",
    "df_ori_combined = df_ori_combined.append(ori_1, ignore_index=True) \n",
    "df_ori_combined = df_ori_combined.append(ori_2, ignore_index=True) \n",
    "df_ori_combined = df_ori_combined.append(ori_3, ignore_index=True) \n",
    "df_ori_combined = df_ori_combined.append(ori_4, ignore_index=True) \n",
    "\n",
    "res_1 = pd.read_csv('/home/abyun/Downloads/w251_proj/251_spark/counts_response_reduced/part-00000',header=None,names=['Date','Post_Count'])\n",
    "res_2 = pd.read_csv('/home/abyun/Downloads/w251_proj/251_spark/counts_response_reduced/part-00001',header=None,names=['Date','Post_Count'])\n",
    "res_3 = pd.read_csv('/home/abyun/Downloads/w251_proj/251_spark/counts_response_reduced/part-00002',header=None,names=['Date','Post_Count'])\n",
    "res_4 = pd.read_csv('/home/abyun/Downloads/w251_proj/251_spark/counts_response_reduced/part-00003',header=None,names=['Date','Post_Count'])\n",
    "\n",
    "df_res_combined = df_res_combined.append(res_1, ignore_index=True) \n",
    "df_res_combined = df_res_combined.append(res_2, ignore_index=True) \n",
    "df_res_combined = df_res_combined.append(res_3, ignore_index=True) \n",
    "df_res_combined = df_res_combined.append(res_4, ignore_index=True) "
   ]
  },
  {
   "cell_type": "code",
   "execution_count": 99,
   "metadata": {
    "collapsed": false
   },
   "outputs": [],
   "source": [
    "def parse_df(df,val):\n",
    "    if val==1: \n",
    "        col_names = [\"Date\",\"Post_Count_Original\"]\n",
    "    elif val==2:\n",
    "        col_names = [\"Date\",\"Post_Count_Response\"]\n",
    "    df_new = pd.DataFrame(columns = col_names)\n",
    "    \n",
    "    for i in range(0,len(df)):\n",
    "        date = df.Date[i]\n",
    "        date = date[1:len(date)]\n",
    "        post_count = df.Post_Count[i]\n",
    "        try:\n",
    "            if date[3]=='6':\n",
    "                date = date[:3] + '4' + date[3 + 1:]\n",
    "            date = parse(date)\n",
    "            post_count = int(post_count[0:len(post_count)-1])\n",
    "        except:\n",
    "            print \"failed, \" + date + \",\" + post_count\n",
    "        add_list = np.array([date, post_count])  \n",
    "        df_new = df_new.append(pd.DataFrame(add_list, index=col_names).transpose())\n",
    "        \n",
    "    df_new = df_new.sort_values(by='Date', axis=0, ascending=True)\n",
    "    df_new.index = df_new['Date']\n",
    "    return df_new"
   ]
  },
  {
   "cell_type": "code",
   "execution_count": 100,
   "metadata": {
    "collapsed": false
   },
   "outputs": [],
   "source": [
    "forum_posts_day_ori = parse_df(df_ori_combined,1)\n",
    "forum_posts_day_res = parse_df(df_res_combined,2)"
   ]
  },
  {
   "cell_type": "code",
   "execution_count": 101,
   "metadata": {
    "collapsed": false
   },
   "outputs": [],
   "source": [
    "combined_forum_posts_day = forum_posts_day_ori.merge(forum_posts_day_res,left_on='Date', right_on='Date', how='outer')\n",
    "combined_forum_posts_day.index = combined_forum_posts_day['Date']"
   ]
  },
  {
   "cell_type": "code",
   "execution_count": 109,
   "metadata": {
    "collapsed": true
   },
   "outputs": [],
   "source": [
    "# sum original and response posts together from both dataframes\n",
    "col_names = [\"Date\",\"Post_Count\"]\n",
    "posts_per_day_combined = pd.DataFrame(columns = col_names)\n",
    "\n",
    "for i in range(0,len(combined_forum_posts_day)):\n",
    "    posts = combined_forum_posts_day.Post_Count_Original[i] + combined_forum_posts_day.Post_Count_Response[i]\n",
    "    try:\n",
    "        posts = int(posts)\n",
    "        if posts > 11000:  # error checking/remove bad data\n",
    "            posts = 0\n",
    "    except:\n",
    "        posts = 0\n",
    "    add_list = np.array([combined_forum_posts_day.Date[i], posts])  \n",
    "    posts_per_day_combined = posts_per_day_combined.append(pd.DataFrame(add_list, index=col_names).transpose())\n",
    "\n",
    "posts_per_day_combined = posts_per_day_combined.sort_values(by='Date', axis=0, ascending=True)\n",
    "posts_per_day_combined.index = posts_per_day_combined['Date']"
   ]
  },
  {
   "cell_type": "code",
   "execution_count": 26,
   "metadata": {
    "collapsed": true
   },
   "outputs": [],
   "source": [
    "%matplotlib qt"
   ]
  },
  {
   "cell_type": "code",
   "execution_count": 68,
   "metadata": {
    "collapsed": false,
    "scrolled": true
   },
   "outputs": [
    {
     "data": {
      "text/plain": [
       "<matplotlib.text.Text at 0x7f1bdb55be90>"
      ]
     },
     "execution_count": 68,
     "metadata": {},
     "output_type": "execute_result"
    }
   ],
   "source": [
    "plt.figure()\n",
    "ax = combined_forum_posts_day.plot(figsize=(16, 12)).set_title('Forum Posts over Time')\n",
    "plt.xlabel('Date')\n",
    "plt.ylabel('Num of Forum Posts')"
   ]
  },
  {
   "cell_type": "code",
   "execution_count": 69,
   "metadata": {
    "collapsed": false
   },
   "outputs": [
    {
     "data": {
      "text/plain": [
       "<matplotlib.text.Text at 0x7f1bd6428490>"
      ]
     },
     "execution_count": 69,
     "metadata": {},
     "output_type": "execute_result"
    }
   ],
   "source": [
    "plt.figure()\n",
    "ax = forum_posts_day_ori.plot(figsize=(16, 12)).set_title('Original Forum Posts over Time')\n",
    "plt.xlabel('Date')\n",
    "plt.ylabel('Num of Original Forum Posts')"
   ]
  },
  {
   "cell_type": "code",
   "execution_count": 70,
   "metadata": {
    "collapsed": false
   },
   "outputs": [
    {
     "data": {
      "text/plain": [
       "<matplotlib.text.Text at 0x7f1bd62de150>"
      ]
     },
     "execution_count": 70,
     "metadata": {},
     "output_type": "execute_result"
    }
   ],
   "source": [
    "plt.figure()\n",
    "ax = forum_posts_day_res.plot(figsize=(16, 12)).set_title('Response Forum Posts over Time')\n",
    "plt.xlabel('Date')\n",
    "plt.ylabel('Num of Response Forum Posts')"
   ]
  },
  {
   "cell_type": "code",
   "execution_count": 110,
   "metadata": {
    "collapsed": false
   },
   "outputs": [
    {
     "data": {
      "text/plain": [
       "<matplotlib.text.Text at 0x7f1bcc019a10>"
      ]
     },
     "execution_count": 110,
     "metadata": {},
     "output_type": "execute_result"
    }
   ],
   "source": [
    "plt.figure()\n",
    "ax = posts_per_day_combined.plot(figsize=(16, 12)).set_title('Daily Forum Posts over Time')\n",
    "plt.xlabel('Date')\n",
    "plt.ylabel('Number of Forum Posts')"
   ]
  },
  {
   "cell_type": "markdown",
   "metadata": {},
   "source": [
    "# Users Per Date"
   ]
  },
  {
   "cell_type": "code",
   "execution_count": 88,
   "metadata": {
    "collapsed": true
   },
   "outputs": [],
   "source": [
    "col_names = [\"Date\",\"Users\"]\n",
    "users_day_ori = pd.DataFrame(columns = col_names)\n",
    "users_day_res = pd.DataFrame(columns = col_names)\n",
    "df_ori_combined = pd.DataFrame(columns = col_names)\n",
    "df_res_combined = pd.DataFrame(columns = col_names)\n",
    "\n",
    "ori_1 = pd.read_csv('/home/abyun/Downloads/w251_proj/251_spark/counts_original_users_reduced/part-00000',header=None,names=['Date','Users'])\n",
    "ori_2 = pd.read_csv('/home/abyun/Downloads/w251_proj/251_spark/counts_original_users_reduced/part-00001',header=None,names=['Date','Users'])\n",
    "ori_3 = pd.read_csv('/home/abyun/Downloads/w251_proj/251_spark/counts_original_users_reduced/part-00002',header=None,names=['Date','Users'])\n",
    "ori_4 = pd.read_csv('/home/abyun/Downloads/w251_proj/251_spark/counts_original_users_reduced/part-00003',header=None,names=['Date','Users'])\n",
    "\n",
    "df_ori_combined = df_ori_combined.append(ori_1, ignore_index=True) \n",
    "df_ori_combined = df_ori_combined.append(ori_2, ignore_index=True) \n",
    "df_ori_combined = df_ori_combined.append(ori_3, ignore_index=True) \n",
    "df_ori_combined = df_ori_combined.append(ori_4, ignore_index=True) \n",
    "\n",
    "res_1 = pd.read_csv('/home/abyun/Downloads/w251_proj/251_spark/counts_response_users_reduced/part-00000',header=None,names=['Date','Users'])\n",
    "res_2 = pd.read_csv('/home/abyun/Downloads/w251_proj/251_spark/counts_response_users_reduced/part-00001',header=None,names=['Date','Users'])\n",
    "res_3 = pd.read_csv('/home/abyun/Downloads/w251_proj/251_spark/counts_response_users_reduced/part-00002',header=None,names=['Date','Users'])\n",
    "res_4 = pd.read_csv('/home/abyun/Downloads/w251_proj/251_spark/counts_response_users_reduced/part-00003',header=None,names=['Date','Users'])\n",
    "\n",
    "df_res_combined = df_res_combined.append(res_1, ignore_index=True) \n",
    "df_res_combined = df_res_combined.append(res_2, ignore_index=True) \n",
    "df_res_combined = df_res_combined.append(res_3, ignore_index=True) \n",
    "df_res_combined = df_res_combined.append(res_4, ignore_index=True) "
   ]
  },
  {
   "cell_type": "code",
   "execution_count": 89,
   "metadata": {
    "collapsed": false
   },
   "outputs": [],
   "source": [
    "def parse_df(df,val):\n",
    "    if val==1: \n",
    "        col_names = [\"Date\",\"Users_Original\"]\n",
    "    elif val==2:\n",
    "        col_names = [\"Date\",\"Users_Response\"]\n",
    "    df_new = pd.DataFrame(columns = col_names)\n",
    "\n",
    "    for i in range(0,len(df)):\n",
    "        date = df.Date[i]\n",
    "        date = date[2:len(date)]\n",
    "        user_count = df.Users[i]\n",
    "        try:\n",
    "            if date[3]=='6':\n",
    "                date = date[:3] + '4' + date[3 + 1:]\n",
    "            date = parse(date)\n",
    "            user_count = int(user_count[0:len(user_count)-1])\n",
    "        except:\n",
    "            print \"failed, \" + date + \",\" + user_count\n",
    "        add_list = np.array([date, user_count])  \n",
    "        df_new = df_new.append(pd.DataFrame(add_list, index=col_names).transpose())\n",
    "        \n",
    "    df_new = df_new.sort_values(by='Date', axis=0, ascending=True)\n",
    "    df_new.index = df_new['Date']\n",
    "    return df_new"
   ]
  },
  {
   "cell_type": "code",
   "execution_count": 90,
   "metadata": {
    "collapsed": false
   },
   "outputs": [],
   "source": [
    "users_day_ori = parse_df(df_ori_combined,1)\n",
    "users_day_res = parse_df(df_res_combined,2)"
   ]
  },
  {
   "cell_type": "code",
   "execution_count": 91,
   "metadata": {
    "collapsed": true
   },
   "outputs": [],
   "source": [
    "combined_users_day = users_day_ori.merge(users_day_res,left_on='Date', right_on='Date', how='outer')\n",
    "combined_users_day.index = combined_users_day['Date']"
   ]
  },
  {
   "cell_type": "code",
   "execution_count": 96,
   "metadata": {
    "collapsed": true
   },
   "outputs": [],
   "source": [
    "# sum original and response posts together from both dataframes\n",
    "col_names = [\"Date\",\"Users\"]\n",
    "users_per_day_combined = pd.DataFrame(columns = col_names)\n",
    "\n",
    "for i in range(0,len(combined_forum_posts_day)):\n",
    "    users = combined_users_day.Users_Original[i] + combined_users_day.Users_Response[i]\n",
    "    try:\n",
    "        users = int(users)\n",
    "        if users > 1600:  # remove outliers / bad data\n",
    "            users = 0        \n",
    "    except:\n",
    "        users = 0\n",
    "    add_list = np.array([combined_users_day.Date[i], users])  \n",
    "    users_per_day_combined = users_per_day_combined.append(pd.DataFrame(add_list, index=col_names).transpose())\n",
    "\n",
    "users_per_day_combined = users_per_day_combined.sort_values(by='Date', axis=0, ascending=True)\n",
    "users_per_day_combined.index = users_per_day_combined['Date']"
   ]
  },
  {
   "cell_type": "code",
   "execution_count": 97,
   "metadata": {
    "collapsed": false
   },
   "outputs": [
    {
     "data": {
      "text/plain": [
       "<matplotlib.text.Text at 0x7f1bf5a296d0>"
      ]
     },
     "execution_count": 97,
     "metadata": {},
     "output_type": "execute_result"
    }
   ],
   "source": [
    "plt.figure()\n",
    "ax = users_per_day_combined.plot(figsize=(16, 12)).set_title('Daily Users over Time')\n",
    "plt.xlabel('Date')\n",
    "plt.ylabel('Number of Users')"
   ]
  },
  {
   "cell_type": "markdown",
   "metadata": {},
   "source": [
    "# Create Final CSVs for Neo4j"
   ]
  },
  {
   "cell_type": "code",
   "execution_count": 1,
   "metadata": {
    "collapsed": true
   },
   "outputs": [],
   "source": [
    "import numpy as np\n",
    "import pandas as pd\n",
    "import hashlib"
   ]
  },
  {
   "cell_type": "code",
   "execution_count": 2,
   "metadata": {
    "collapsed": true
   },
   "outputs": [],
   "source": [
    "col_nodes = [\"Node\"]\n",
    "file_nodes = pd.DataFrame(columns = col_nodes)\n",
    "file_nodes = pd.read_csv('/home/abyun/Downloads/w251_proj/251_spark/neo4j_nodes/part-00000',header=None,names=col_nodes)\n",
    "\n",
    "col_edges = [\"Node1\",\"Node2\",\"Weight\"]\n",
    "file_edges = pd.DataFrame(columns = col_edges)\n",
    "file_edges = pd.read_csv('/home/abyun/Downloads/w251_proj/251_spark/neo4j_edges_final/part-00000',header=None,names=col_edges)"
   ]
  },
  {
   "cell_type": "code",
   "execution_count": 3,
   "metadata": {
    "collapsed": false
   },
   "outputs": [],
   "source": [
    "# node CSV\n",
    "col_nodes_CSV = [\"id\",\"username\"]\n",
    "df_nodes = pd.DataFrame(columns = col_nodes_CSV)\n",
    "\n",
    "for i in range(0,len(file_nodes)):\n",
    "    name = str(file_nodes.Node[i])\n",
    "    id_node = hashlib.md5(name.encode()).hexdigest()\n",
    "    add_list = np.array([id_node,name])  \n",
    "    df_nodes = df_nodes.append(pd.DataFrame(add_list, index=col_nodes_CSV).transpose())"
   ]
  },
  {
   "cell_type": "code",
   "execution_count": 4,
   "metadata": {
    "collapsed": true
   },
   "outputs": [],
   "source": [
    "df_nodes.to_csv('neo4j_nodes.csv', encoding='utf-8')"
   ]
  },
  {
   "cell_type": "code",
   "execution_count": 4,
   "metadata": {
    "collapsed": false,
    "scrolled": true
   },
   "outputs": [
    {
     "name": "stdout",
     "output_type": "stream",
     "text": [
      "0\n",
      "10000\n",
      "20000\n",
      "30000\n",
      "40000\n",
      "50000\n",
      "60000\n",
      "70000\n",
      "80000\n",
      "90000\n",
      "100000\n",
      "110000\n",
      "120000\n",
      "130000\n",
      "140000\n",
      "150000\n",
      "160000\n",
      "170000\n",
      "180000\n",
      "190000\n",
      "200000\n",
      "210000\n",
      "220000\n",
      "230000\n",
      "240000\n",
      "250000\n",
      "260000\n",
      "270000\n",
      "280000\n",
      "290000\n",
      "300000\n",
      "310000\n",
      "320000\n",
      "330000\n",
      "340000\n",
      "350000\n",
      "360000\n",
      "370000\n",
      "380000\n",
      "390000\n",
      "400000\n",
      "410000\n",
      "420000\n",
      "430000\n",
      "440000\n",
      "450000\n",
      "460000\n",
      "470000\n",
      "480000\n",
      "490000\n",
      "500000\n",
      "510000\n",
      "520000\n",
      "530000\n",
      "540000\n",
      "550000\n",
      "560000\n"
     ]
    },
    {
     "data": {
      "text/plain": [
       "'\\n    if i > 20000:\\n        print i\\n        break\\n    '"
      ]
     },
     "execution_count": 4,
     "metadata": {},
     "output_type": "execute_result"
    }
   ],
   "source": [
    "# node CSV\n",
    "col_edges_CSV = [\"id1\",\"username1\",\"id2\",\"username2\",\"weight\"]\n",
    "df_edges = pd.DataFrame(columns = col_edges_CSV)\n",
    "\n",
    "for i in range(0,len(file_edges)):\n",
    "    name1 = str(file_edges.Node1[i])\n",
    "    name1 = name1[1:len(name1)]\n",
    "    id_node1 = hashlib.md5(name1.encode()).hexdigest()\n",
    "    \n",
    "    name2 = str(file_edges.Node2[i])\n",
    "    id_node2 = hashlib.md5(name2.encode()).hexdigest()\n",
    "    \n",
    "    weight = str(file_edges.Weight[i])\n",
    "    weight = weight[0:len(weight)-1]\n",
    "    weight = int(weight)\n",
    "    \n",
    "    add_list = np.array([id_node1,name1,id_node2,name2,weight])  \n",
    "    df_edges = df_edges.append(pd.DataFrame(add_list, index=col_edges_CSV).transpose())\n",
    "    \n",
    "    if i % 10000 == 0:\n",
    "        print i\n",
    "    \n",
    "\"\"\"\n",
    "    if i > 20000:\n",
    "        print i\n",
    "        break\n",
    "    \"\"\"\n"
   ]
  },
  {
   "cell_type": "code",
   "execution_count": null,
   "metadata": {
    "collapsed": true
   },
   "outputs": [],
   "source": [
    "df_edges"
   ]
  },
  {
   "cell_type": "code",
   "execution_count": 6,
   "metadata": {
    "collapsed": true
   },
   "outputs": [],
   "source": [
    "df_edges.to_csv('neo4j_edges.csv', encoding='utf-8')"
   ]
  },
  {
   "cell_type": "markdown",
   "metadata": {},
   "source": [
    "# Count posts by user"
   ]
  },
  {
   "cell_type": "code",
   "execution_count": 1,
   "metadata": {
    "collapsed": true
   },
   "outputs": [],
   "source": [
    "import numpy as np\n",
    "import pandas as pd\n",
    "from dateutil.parser import parse\n",
    "import matplotlib.pyplot as plt"
   ]
  },
  {
   "cell_type": "code",
   "execution_count": 2,
   "metadata": {
    "collapsed": true
   },
   "outputs": [],
   "source": [
    "col_names = [\"User\",\"Count\"]\n",
    "users_count = pd.DataFrame(columns = col_names)\n",
    "df_users = pd.DataFrame(columns = col_names)\n",
    "\n",
    "ori_1 = pd.read_csv('/home/abyun/Downloads/w251_proj/251_spark/posts_by_author_count/part-00000',header=None,names=col_names)\n",
    "ori_2 = pd.read_csv('/home/abyun/Downloads/w251_proj/251_spark/posts_by_author_count/part-00001',header=None,names=col_names)\n",
    "ori_3 = pd.read_csv('/home/abyun/Downloads/w251_proj/251_spark/posts_by_author_count/part-00002',header=None,names=col_names)\n",
    "ori_4 = pd.read_csv('/home/abyun/Downloads/w251_proj/251_spark/posts_by_author_count/part-00003',header=None,names=col_names)\n",
    "\n",
    "users_count = users_count.append(ori_1, ignore_index=True) \n",
    "users_count = users_count.append(ori_2, ignore_index=True) \n",
    "users_count = users_count.append(ori_3, ignore_index=True) \n",
    "users_count = users_count.append(ori_4, ignore_index=True) "
   ]
  },
  {
   "cell_type": "code",
   "execution_count": 3,
   "metadata": {
    "collapsed": false
   },
   "outputs": [],
   "source": [
    "for i in range(0,len(users_count)):\n",
    "    user = users_count.User[i]\n",
    "    user = user[1:len(user)]\n",
    "    count = users_count.Count[i]\n",
    "    count = count[0:len(count)-1]\n",
    "    \n",
    "    add_list = np.array([user, int(count)])  \n",
    "    df_users = df_users.append(pd.DataFrame(add_list, index=col_names).transpose())\n",
    "\n",
    "df_users = df_users.sort_values(by='Count', axis=0, ascending=False)"
   ]
  },
  {
   "cell_type": "code",
   "execution_count": 4,
   "metadata": {
    "collapsed": false
   },
   "outputs": [
    {
     "data": {
      "text/html": [
       "<div>\n",
       "<table border=\"1\" class=\"dataframe\">\n",
       "  <thead>\n",
       "    <tr style=\"text-align: right;\">\n",
       "      <th></th>\n",
       "      <th>User</th>\n",
       "      <th>Count</th>\n",
       "    </tr>\n",
       "  </thead>\n",
       "  <tbody>\n",
       "    <tr>\n",
       "      <th>0</th>\n",
       "      <td>Bliss</td>\n",
       "      <td>995</td>\n",
       "    </tr>\n",
       "    <tr>\n",
       "      <th>0</th>\n",
       "      <td>Sunwu</td>\n",
       "      <td>991</td>\n",
       "    </tr>\n",
       "    <tr>\n",
       "      <th>0</th>\n",
       "      <td>DoctaJay</td>\n",
       "      <td>99</td>\n",
       "    </tr>\n",
       "    <tr>\n",
       "      <th>0</th>\n",
       "      <td>Huxlay</td>\n",
       "      <td>99</td>\n",
       "    </tr>\n",
       "    <tr>\n",
       "      <th>0</th>\n",
       "      <td>FredandFlintstone</td>\n",
       "      <td>99</td>\n",
       "    </tr>\n",
       "    <tr>\n",
       "      <th>0</th>\n",
       "      <td>wazzabella17</td>\n",
       "      <td>99</td>\n",
       "    </tr>\n",
       "    <tr>\n",
       "      <th>0</th>\n",
       "      <td>smokingkills24</td>\n",
       "      <td>99</td>\n",
       "    </tr>\n",
       "    <tr>\n",
       "      <th>0</th>\n",
       "      <td>sourman</td>\n",
       "      <td>99</td>\n",
       "    </tr>\n",
       "    <tr>\n",
       "      <th>0</th>\n",
       "      <td>DeandraMargaretTiana</td>\n",
       "      <td>99</td>\n",
       "    </tr>\n",
       "    <tr>\n",
       "      <th>0</th>\n",
       "      <td>LemonSlice</td>\n",
       "      <td>99</td>\n",
       "    </tr>\n",
       "  </tbody>\n",
       "</table>\n",
       "</div>"
      ],
      "text/plain": [
       "                   User Count\n",
       "0                 Bliss   995\n",
       "0                 Sunwu   991\n",
       "0              DoctaJay    99\n",
       "0                Huxlay    99\n",
       "0     FredandFlintstone    99\n",
       "0          wazzabella17    99\n",
       "0        smokingkills24    99\n",
       "0               sourman    99\n",
       "0  DeandraMargaretTiana    99\n",
       "0            LemonSlice    99"
      ]
     },
     "execution_count": 4,
     "metadata": {},
     "output_type": "execute_result"
    }
   ],
   "source": [
    "df_users.head(10)"
   ]
  },
  {
   "cell_type": "code",
   "execution_count": 54,
   "metadata": {
    "collapsed": false
   },
   "outputs": [
    {
     "data": {
      "text/html": [
       "<div>\n",
       "<table border=\"1\" class=\"dataframe\">\n",
       "  <thead>\n",
       "    <tr style=\"text-align: right;\">\n",
       "      <th></th>\n",
       "      <th>User</th>\n",
       "      <th>Count</th>\n",
       "    </tr>\n",
       "    <tr>\n",
       "      <th>User</th>\n",
       "      <th></th>\n",
       "      <th></th>\n",
       "    </tr>\n",
       "  </thead>\n",
       "  <tbody>\n",
       "    <tr>\n",
       "      <th>Bliss</th>\n",
       "      <td>Bliss</td>\n",
       "      <td>995</td>\n",
       "    </tr>\n",
       "    <tr>\n",
       "      <th>Sunwu</th>\n",
       "      <td>Sunwu</td>\n",
       "      <td>991</td>\n",
       "    </tr>\n",
       "    <tr>\n",
       "      <th>DoctaJay</th>\n",
       "      <td>DoctaJay</td>\n",
       "      <td>99</td>\n",
       "    </tr>\n",
       "    <tr>\n",
       "      <th>Huxlay</th>\n",
       "      <td>Huxlay</td>\n",
       "      <td>99</td>\n",
       "    </tr>\n",
       "    <tr>\n",
       "      <th>FredandFlintstone</th>\n",
       "      <td>FredandFlintstone</td>\n",
       "      <td>99</td>\n",
       "    </tr>\n",
       "    <tr>\n",
       "      <th>wazzabella17</th>\n",
       "      <td>wazzabella17</td>\n",
       "      <td>99</td>\n",
       "    </tr>\n",
       "    <tr>\n",
       "      <th>smokingkills24</th>\n",
       "      <td>smokingkills24</td>\n",
       "      <td>99</td>\n",
       "    </tr>\n",
       "    <tr>\n",
       "      <th>sourman</th>\n",
       "      <td>sourman</td>\n",
       "      <td>99</td>\n",
       "    </tr>\n",
       "    <tr>\n",
       "      <th>DeandraMargaretTiana</th>\n",
       "      <td>DeandraMargaretTiana</td>\n",
       "      <td>99</td>\n",
       "    </tr>\n",
       "    <tr>\n",
       "      <th>LemonSlice</th>\n",
       "      <td>LemonSlice</td>\n",
       "      <td>99</td>\n",
       "    </tr>\n",
       "  </tbody>\n",
       "</table>\n",
       "</div>"
      ],
      "text/plain": [
       "                                      User  Count\n",
       "User                                             \n",
       "Bliss                                Bliss    995\n",
       "Sunwu                                Sunwu    991\n",
       "DoctaJay                          DoctaJay     99\n",
       "Huxlay                              Huxlay     99\n",
       "FredandFlintstone        FredandFlintstone     99\n",
       "wazzabella17                  wazzabella17     99\n",
       "smokingkills24              smokingkills24     99\n",
       "sourman                            sourman     99\n",
       "DeandraMargaretTiana  DeandraMargaretTiana     99\n",
       "LemonSlice                      LemonSlice     99"
      ]
     },
     "execution_count": 54,
     "metadata": {},
     "output_type": "execute_result"
    }
   ],
   "source": [
    "df_users_test = df_users\n",
    "\n",
    "#df_users_test.index = df_users_test['User']\n",
    "#df_users_test.reset_index(drop=True)\n",
    "#df_users_test = pd.to_numeric(df_users_test['Count'])\n",
    "\n",
    "df_users_test['Count'] = df_users_test['Count'].astype(int)\n",
    "\n",
    "df_users_test.head(10)"
   ]
  },
  {
   "cell_type": "code",
   "execution_count": 55,
   "metadata": {
    "collapsed": false
   },
   "outputs": [],
   "source": [
    "df_users_test = df_users_test.sort_values(by='Count', axis=0, ascending=False)"
   ]
  },
  {
   "cell_type": "code",
   "execution_count": 58,
   "metadata": {
    "collapsed": false
   },
   "outputs": [],
   "source": [
    "df_users_test = df_users_test[1:len(df_users_test)]"
   ]
  },
  {
   "cell_type": "code",
   "execution_count": 60,
   "metadata": {
    "collapsed": false
   },
   "outputs": [
    {
     "data": {
      "text/plain": [
       "<matplotlib.text.Text at 0x7fcfd3edfb10>"
      ]
     },
     "execution_count": 60,
     "metadata": {},
     "output_type": "execute_result"
    }
   ],
   "source": [
    "%matplotlib qt\n",
    "#plt.figure()\n",
    "\n",
    "ax = df_users_test.plot(figsize=(16, 12),legend=False).set_title('Number of User Posts')\n",
    "plt.xlabel('Users')\n",
    "plt.ylabel('Number of Posts')"
   ]
  }
 ],
 "metadata": {
  "kernelspec": {
   "display_name": "Python 2",
   "language": "python",
   "name": "python2"
  },
  "language_info": {
   "codemirror_mode": {
    "name": "ipython",
    "version": 2
   },
   "file_extension": ".py",
   "mimetype": "text/x-python",
   "name": "python",
   "nbconvert_exporter": "python",
   "pygments_lexer": "ipython2",
   "version": "2.7.11"
  }
 },
 "nbformat": 4,
 "nbformat_minor": 0
}
